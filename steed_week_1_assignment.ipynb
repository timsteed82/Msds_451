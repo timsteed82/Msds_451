{
 "cells": [
  {
   "cell_type": "markdown",
   "id": "ef9c7d75",
   "metadata": {},
   "source": [
    "### Problem #1"
   ]
  },
  {
   "cell_type": "code",
   "execution_count": 14,
   "id": "c2ecad24",
   "metadata": {},
   "outputs": [],
   "source": [
    "import pickle\n",
    "from pandas_profiling import ProfileReport\n",
    "import bz2\n",
    "import random\n",
    "import os\n",
    "import pandas as pd"
   ]
  },
  {
   "cell_type": "code",
   "execution_count": 5,
   "id": "8fa3d274",
   "metadata": {},
   "outputs": [],
   "source": [
    "ifile = bz2.BZ2File(\"R3K_Daily.bz2\",'rb')\n",
    "week_1_df = pickle.load(ifile)\n",
    "ifile.close()\n"
   ]
  },
  {
   "cell_type": "code",
   "execution_count": 6,
   "id": "d90ca165",
   "metadata": {},
   "outputs": [
    {
     "data": {
      "application/vnd.jupyter.widget-view+json": {
       "model_id": "97d8a523a7194a51abd8d963b6177ebb",
       "version_major": 2,
       "version_minor": 0
      },
      "text/plain": [
       "Summarize dataset:   0%|          | 0/5 [00:00<?, ?it/s]"
      ]
     },
     "metadata": {},
     "output_type": "display_data"
    },
    {
     "data": {
      "application/vnd.jupyter.widget-view+json": {
       "model_id": "88b6805b349b41899e1cef35fa87be60",
       "version_major": 2,
       "version_minor": 0
      },
      "text/plain": [
       "Generate report structure:   0%|          | 0/1 [00:00<?, ?it/s]"
      ]
     },
     "metadata": {},
     "output_type": "display_data"
    },
    {
     "data": {
      "application/vnd.jupyter.widget-view+json": {
       "model_id": "d7c7c0e5cf904ac9b02eaff245ba6303",
       "version_major": 2,
       "version_minor": 0
      },
      "text/plain": [
       "Render HTML:   0%|          | 0/1 [00:00<?, ?it/s]"
      ]
     },
     "metadata": {},
     "output_type": "display_data"
    },
    {
     "data": {
      "application/vnd.jupyter.widget-view+json": {
       "model_id": "395e565f90b54b5194b19b44d9c98292",
       "version_major": 2,
       "version_minor": 0
      },
      "text/plain": [
       "Export report to file:   0%|          | 0/1 [00:00<?, ?it/s]"
      ]
     },
     "metadata": {},
     "output_type": "display_data"
    }
   ],
   "source": [
    "p = ProfileReport(week_1_df)\n",
    "p.to_file(\"ProfileReportAllFields.html\")"
   ]
  },
  {
   "cell_type": "code",
   "execution_count": 7,
   "id": "5c812c36",
   "metadata": {},
   "outputs": [
    {
     "data": {
      "text/html": [
       "<div>\n",
       "<style scoped>\n",
       "    .dataframe tbody tr th:only-of-type {\n",
       "        vertical-align: middle;\n",
       "    }\n",
       "\n",
       "    .dataframe tbody tr th {\n",
       "        vertical-align: top;\n",
       "    }\n",
       "\n",
       "    .dataframe thead th {\n",
       "        text-align: right;\n",
       "    }\n",
       "</style>\n",
       "<table border=\"1\" class=\"dataframe\">\n",
       "  <thead>\n",
       "    <tr style=\"text-align: right;\">\n",
       "      <th></th>\n",
       "      <th>Date</th>\n",
       "      <th>Open</th>\n",
       "      <th>High</th>\n",
       "      <th>Low</th>\n",
       "      <th>Close</th>\n",
       "      <th>UnAdjustedClose</th>\n",
       "      <th>Volume</th>\n",
       "      <th>Symbol</th>\n",
       "    </tr>\n",
       "  </thead>\n",
       "  <tbody>\n",
       "    <tr>\n",
       "      <th>0</th>\n",
       "      <td>2000-12-01</td>\n",
       "      <td>33.287973</td>\n",
       "      <td>34.388402</td>\n",
       "      <td>33.170070</td>\n",
       "      <td>33.327274</td>\n",
       "      <td>53.0000</td>\n",
       "      <td>36286</td>\n",
       "      <td>A</td>\n",
       "    </tr>\n",
       "    <tr>\n",
       "      <th>1</th>\n",
       "      <td>2000-12-04</td>\n",
       "      <td>32.737759</td>\n",
       "      <td>33.366575</td>\n",
       "      <td>31.755233</td>\n",
       "      <td>32.069641</td>\n",
       "      <td>51.0000</td>\n",
       "      <td>28951</td>\n",
       "      <td>A</td>\n",
       "    </tr>\n",
       "    <tr>\n",
       "      <th>2</th>\n",
       "      <td>2000-12-05</td>\n",
       "      <td>33.170070</td>\n",
       "      <td>35.017219</td>\n",
       "      <td>33.052167</td>\n",
       "      <td>34.624208</td>\n",
       "      <td>55.0625</td>\n",
       "      <td>54723</td>\n",
       "      <td>A</td>\n",
       "    </tr>\n",
       "    <tr>\n",
       "      <th>3</th>\n",
       "      <td>2000-12-06</td>\n",
       "      <td>34.742111</td>\n",
       "      <td>35.803239</td>\n",
       "      <td>32.698458</td>\n",
       "      <td>32.698458</td>\n",
       "      <td>52.0000</td>\n",
       "      <td>43669</td>\n",
       "      <td>A</td>\n",
       "    </tr>\n",
       "    <tr>\n",
       "      <th>4</th>\n",
       "      <td>2000-12-07</td>\n",
       "      <td>33.012866</td>\n",
       "      <td>34.506305</td>\n",
       "      <td>32.305447</td>\n",
       "      <td>33.956091</td>\n",
       "      <td>54.0000</td>\n",
       "      <td>30599</td>\n",
       "      <td>A</td>\n",
       "    </tr>\n",
       "  </tbody>\n",
       "</table>\n",
       "</div>"
      ],
      "text/plain": [
       "        Date       Open       High        Low      Close  UnAdjustedClose  \\\n",
       "0 2000-12-01  33.287973  34.388402  33.170070  33.327274          53.0000   \n",
       "1 2000-12-04  32.737759  33.366575  31.755233  32.069641          51.0000   \n",
       "2 2000-12-05  33.170070  35.017219  33.052167  34.624208          55.0625   \n",
       "3 2000-12-06  34.742111  35.803239  32.698458  32.698458          52.0000   \n",
       "4 2000-12-07  33.012866  34.506305  32.305447  33.956091          54.0000   \n",
       "\n",
       "  Volume Symbol  \n",
       "0  36286      A  \n",
       "1  28951      A  \n",
       "2  54723      A  \n",
       "3  43669      A  \n",
       "4  30599      A  "
      ]
     },
     "execution_count": 7,
     "metadata": {},
     "output_type": "execute_result"
    }
   ],
   "source": [
    "week_1_df.head()"
   ]
  },
  {
   "cell_type": "markdown",
   "id": "0bcb2e24",
   "metadata": {},
   "source": [
    "##### The Pickle format is more efficient than CSV formatting. It is faster and lighter than CSVs and allows the user to serialize any type of python object (not solely data). I think the main advantage as it concerns this course is that you can use the pickle functionality to save machine learning models.\n",
    "\n",
    "##### One advantage dataframes have over numpy arrays is that arrays can only contain data objects of the same types, while dataframes can contain multiple datatypes. For machine learning models this presents obvious advantages as we can use the dataframe object to evaluate numerical data as well as text data. "
   ]
  },
  {
   "cell_type": "markdown",
   "id": "24a48ec0",
   "metadata": {},
   "source": [
    "### Problem 2"
   ]
  },
  {
   "cell_type": "code",
   "execution_count": 8,
   "id": "737fa754",
   "metadata": {},
   "outputs": [],
   "source": [
    "dual_class_stocks = []\n",
    "symbol_list = week_1_df['Symbol'].unique().tolist()\n",
    "for sym in symbol_list:\n",
    "    if \".\" in sym:\n",
    "        dual_class_stocks.append(sym)"
   ]
  },
  {
   "cell_type": "code",
   "execution_count": 9,
   "id": "3e4aa76c",
   "metadata": {},
   "outputs": [
    {
     "name": "stdout",
     "output_type": "stream",
     "text": [
      "['BF.A', 'BF.B', 'BRK.B', 'CRD.B', \"FCE.A'\", 'HEI.A', 'JW.A', 'LEN.B', 'MOG.A']\n"
     ]
    }
   ],
   "source": [
    "print(dual_class_stocks)"
   ]
  },
  {
   "cell_type": "markdown",
   "id": "a37aef65",
   "metadata": {},
   "source": [
    "##### An example of Dual class stocks contained in the data would be BF.A and BF.B which are different classes of stock in the Brown-Forman Corp"
   ]
  },
  {
   "cell_type": "markdown",
   "id": "7b555586",
   "metadata": {},
   "source": [
    "### Problem 3"
   ]
  },
  {
   "cell_type": "code",
   "execution_count": 10,
   "id": "3d3cd3d1",
   "metadata": {},
   "outputs": [],
   "source": [
    "minimum_close = week_1_df[week_1_df['Close'] == week_1_df['Close'].min()]"
   ]
  },
  {
   "cell_type": "code",
   "execution_count": 11,
   "id": "37ebd1d2",
   "metadata": {},
   "outputs": [
    {
     "data": {
      "text/html": [
       "<div>\n",
       "<style scoped>\n",
       "    .dataframe tbody tr th:only-of-type {\n",
       "        vertical-align: middle;\n",
       "    }\n",
       "\n",
       "    .dataframe tbody tr th {\n",
       "        vertical-align: top;\n",
       "    }\n",
       "\n",
       "    .dataframe thead th {\n",
       "        text-align: right;\n",
       "    }\n",
       "</style>\n",
       "<table border=\"1\" class=\"dataframe\">\n",
       "  <thead>\n",
       "    <tr style=\"text-align: right;\">\n",
       "      <th></th>\n",
       "      <th>Date</th>\n",
       "      <th>Open</th>\n",
       "      <th>High</th>\n",
       "      <th>Low</th>\n",
       "      <th>Close</th>\n",
       "      <th>UnAdjustedClose</th>\n",
       "      <th>Volume</th>\n",
       "      <th>Symbol</th>\n",
       "    </tr>\n",
       "  </thead>\n",
       "  <tbody>\n",
       "    <tr>\n",
       "      <th>3707037</th>\n",
       "      <td>2004-10-25</td>\n",
       "      <td>0.008893</td>\n",
       "      <td>0.008893</td>\n",
       "      <td>0.008893</td>\n",
       "      <td>0.008893</td>\n",
       "      <td>0.01</td>\n",
       "      <td>11</td>\n",
       "      <td>WETF</td>\n",
       "    </tr>\n",
       "  </tbody>\n",
       "</table>\n",
       "</div>"
      ],
      "text/plain": [
       "              Date      Open      High       Low     Close  UnAdjustedClose  \\\n",
       "3707037 2004-10-25  0.008893  0.008893  0.008893  0.008893             0.01   \n",
       "\n",
       "        Volume Symbol  \n",
       "3707037     11   WETF  "
      ]
     },
     "execution_count": 11,
     "metadata": {},
     "output_type": "execute_result"
    }
   ],
   "source": [
    "minimum_close"
   ]
  },
  {
   "cell_type": "markdown",
   "id": "819f963c",
   "metadata": {},
   "source": [
    "##### The minimum closing price was .008893 for the stock WETF on October 25, 2004. Each exchange has there own rules about minimum values required to retain listing eligibilty. It is likely this stock would be traded over the counter or on the pink sheets, but I couldnt find any SEC rules online prohibbiting stocks from trading for less than a penny. The cause of such low prices would be that equity in the company is not very valuable."
   ]
  },
  {
   "cell_type": "markdown",
   "id": "7f993824",
   "metadata": {},
   "source": [
    "### Problem 4"
   ]
  },
  {
   "cell_type": "markdown",
   "id": "1487cc94",
   "metadata": {},
   "source": [
    "##### What does “Rejected” mean next to the line “High is highly correlated with Close”? This isn't present in the profiling report, but it seems pretty self explanatory that any column that displayed that shows a low correlation coefficient with the 'Close' Column.\n"
   ]
  },
  {
   "cell_type": "markdown",
   "id": "cf45327e",
   "metadata": {},
   "source": [
    "### Problem 5"
   ]
  },
  {
   "cell_type": "code",
   "execution_count": 12,
   "id": "7b68c8c7",
   "metadata": {},
   "outputs": [],
   "source": [
    "kors_df = week_1_df[week_1_df['Symbol'].isin(['KORS'])].rename(columns={\"Close\": \"Kors_Close\"})\n",
    "capri_df = week_1_df[week_1_df['Symbol'].isin(['CPRI'])].rename(columns={\"Close\": \"Capri_Close\"})"
   ]
  },
  {
   "cell_type": "code",
   "execution_count": 15,
   "id": "2aa7c805",
   "metadata": {},
   "outputs": [],
   "source": [
    "fashion_merged_df = pd.merge(kors_df[['Date','Kors_Close']],capri_df[['Date','Capri_Close']],on='Date', how='outer')"
   ]
  },
  {
   "cell_type": "code",
   "execution_count": 16,
   "id": "3728e19d",
   "metadata": {},
   "outputs": [
    {
     "data": {
      "text/html": [
       "<div>\n",
       "<style scoped>\n",
       "    .dataframe tbody tr th:only-of-type {\n",
       "        vertical-align: middle;\n",
       "    }\n",
       "\n",
       "    .dataframe tbody tr th {\n",
       "        vertical-align: top;\n",
       "    }\n",
       "\n",
       "    .dataframe thead th {\n",
       "        text-align: right;\n",
       "    }\n",
       "</style>\n",
       "<table border=\"1\" class=\"dataframe\">\n",
       "  <thead>\n",
       "    <tr style=\"text-align: right;\">\n",
       "      <th></th>\n",
       "      <th>Date</th>\n",
       "      <th>Kors_Close</th>\n",
       "      <th>Capri_Close</th>\n",
       "    </tr>\n",
       "  </thead>\n",
       "  <tbody>\n",
       "    <tr>\n",
       "      <th>0</th>\n",
       "      <td>2011-12-15</td>\n",
       "      <td>24.20</td>\n",
       "      <td>24.20</td>\n",
       "    </tr>\n",
       "    <tr>\n",
       "      <th>1</th>\n",
       "      <td>2011-12-16</td>\n",
       "      <td>24.10</td>\n",
       "      <td>24.10</td>\n",
       "    </tr>\n",
       "    <tr>\n",
       "      <th>2</th>\n",
       "      <td>2011-12-19</td>\n",
       "      <td>24.88</td>\n",
       "      <td>24.88</td>\n",
       "    </tr>\n",
       "    <tr>\n",
       "      <th>3</th>\n",
       "      <td>2011-12-20</td>\n",
       "      <td>25.45</td>\n",
       "      <td>25.45</td>\n",
       "    </tr>\n",
       "    <tr>\n",
       "      <th>4</th>\n",
       "      <td>2011-12-21</td>\n",
       "      <td>26.55</td>\n",
       "      <td>26.55</td>\n",
       "    </tr>\n",
       "  </tbody>\n",
       "</table>\n",
       "</div>"
      ],
      "text/plain": [
       "        Date  Kors_Close  Capri_Close\n",
       "0 2011-12-15       24.20        24.20\n",
       "1 2011-12-16       24.10        24.10\n",
       "2 2011-12-19       24.88        24.88\n",
       "3 2011-12-20       25.45        25.45\n",
       "4 2011-12-21       26.55        26.55"
      ]
     },
     "execution_count": 16,
     "metadata": {},
     "output_type": "execute_result"
    }
   ],
   "source": [
    "fashion_merged_df.head()"
   ]
  },
  {
   "cell_type": "code",
   "execution_count": 17,
   "id": "3cf53e61",
   "metadata": {},
   "outputs": [
    {
     "data": {
      "text/html": [
       "<div>\n",
       "<style scoped>\n",
       "    .dataframe tbody tr th:only-of-type {\n",
       "        vertical-align: middle;\n",
       "    }\n",
       "\n",
       "    .dataframe tbody tr th {\n",
       "        vertical-align: top;\n",
       "    }\n",
       "\n",
       "    .dataframe thead th {\n",
       "        text-align: right;\n",
       "    }\n",
       "</style>\n",
       "<table border=\"1\" class=\"dataframe\">\n",
       "  <thead>\n",
       "    <tr style=\"text-align: right;\">\n",
       "      <th></th>\n",
       "      <th>Date</th>\n",
       "      <th>Kors_Close</th>\n",
       "      <th>Capri_Close</th>\n",
       "    </tr>\n",
       "  </thead>\n",
       "  <tbody>\n",
       "    <tr>\n",
       "      <th>1812</th>\n",
       "      <td>2019-03-04</td>\n",
       "      <td>NaN</td>\n",
       "      <td>45.07</td>\n",
       "    </tr>\n",
       "    <tr>\n",
       "      <th>1813</th>\n",
       "      <td>2019-03-05</td>\n",
       "      <td>NaN</td>\n",
       "      <td>45.17</td>\n",
       "    </tr>\n",
       "    <tr>\n",
       "      <th>1814</th>\n",
       "      <td>2019-03-06</td>\n",
       "      <td>NaN</td>\n",
       "      <td>46.00</td>\n",
       "    </tr>\n",
       "    <tr>\n",
       "      <th>1815</th>\n",
       "      <td>2019-03-07</td>\n",
       "      <td>NaN</td>\n",
       "      <td>44.70</td>\n",
       "    </tr>\n",
       "    <tr>\n",
       "      <th>1816</th>\n",
       "      <td>2019-03-08</td>\n",
       "      <td>NaN</td>\n",
       "      <td>43.58</td>\n",
       "    </tr>\n",
       "  </tbody>\n",
       "</table>\n",
       "</div>"
      ],
      "text/plain": [
       "           Date  Kors_Close  Capri_Close\n",
       "1812 2019-03-04         NaN        45.07\n",
       "1813 2019-03-05         NaN        45.17\n",
       "1814 2019-03-06         NaN        46.00\n",
       "1815 2019-03-07         NaN        44.70\n",
       "1816 2019-03-08         NaN        43.58"
      ]
     },
     "execution_count": 17,
     "metadata": {},
     "output_type": "execute_result"
    }
   ],
   "source": [
    "fashion_merged_df.tail()"
   ]
  },
  {
   "cell_type": "code",
   "execution_count": 18,
   "id": "9959af4f",
   "metadata": {},
   "outputs": [
    {
     "data": {
      "text/plain": [
       "array([<AxesSubplot:xlabel='Date'>, <AxesSubplot:xlabel='Date'>],\n",
       "      dtype=object)"
      ]
     },
     "execution_count": 18,
     "metadata": {},
     "output_type": "execute_result"
    },
    {
     "data": {
      "image/png": "[encoded data removed]",
      "text/plain": [
       "<Figure size 432x288 with 2 Axes>"
      ]
     },
     "metadata": {
      "needs_background": "light"
     },
     "output_type": "display_data"
    }
   ],
   "source": [
    "fashion_merged_df.plot.line(x='Date', y=['Kors_Close','Capri_Close'], subplots=True)"
   ]
  },
  {
   "cell_type": "code",
   "execution_count": 19,
   "id": "d71d90ca",
   "metadata": {},
   "outputs": [
    {
     "data": {
      "text/plain": [
       "<AxesSubplot:xlabel='Date'>"
      ]
     },
     "execution_count": 19,
     "metadata": {},
     "output_type": "execute_result"
    },
    {
     "data": {
      "image/png": "[encoded data removed]",
      "text/plain": [
       "<Figure size 432x288 with 1 Axes>"
      ]
     },
     "metadata": {
      "needs_background": "light"
     },
     "output_type": "display_data"
    }
   ],
   "source": [
    "fashion_merged_df.plot.line(x='Date', y=['Kors_Close','Capri_Close'])"
   ]
  },
  {
   "cell_type": "code",
   "execution_count": 20,
   "id": "f4c5a75a",
   "metadata": {},
   "outputs": [
    {
     "name": "stdout",
     "output_type": "stream",
     "text": [
      "1.0\n"
     ]
    }
   ],
   "source": [
    "print(round(fashion_merged_df['Kors_Close'].corr(fashion_merged_df['Capri_Close']),4))"
   ]
  },
  {
   "cell_type": "markdown",
   "id": "6e4fbf49",
   "metadata": {},
   "source": [
    "##### Yes it appears that the person who compiled this dataset backfilled all the data concerning 'CPRI''s value back to 2012 (to match that of 'KORS'  despite the fact that it did not exist until 2018. I think the proper way to handle this would be to treat them as distinct entities and leave all the values prior to 2018 for CPRI asa NaNs and everything post 2018 for 'KORS' as NaNs. "
   ]
  },
  {
   "cell_type": "markdown",
   "id": "8ae37fce",
   "metadata": {},
   "source": [
    "### Problem 6"
   ]
  },
  {
   "cell_type": "code",
   "execution_count": 21,
   "id": "81fef5d4",
   "metadata": {},
   "outputs": [],
   "source": [
    "goog_df = week_1_df[week_1_df['Symbol'].isin(['GOOG'])].rename(columns={\"Close\": \"GOOG_Close\"})\n",
    "googl_df = week_1_df[week_1_df['Symbol'].isin(['GOOGL'])].rename(columns={\"Close\": \"GOOGL_Close\"})"
   ]
  },
  {
   "cell_type": "code",
   "execution_count": 22,
   "id": "40ef10f8",
   "metadata": {},
   "outputs": [],
   "source": [
    "search_merged_df = pd.merge(goog_df[['Date','GOOG_Close']],googl_df[['Date','GOOGL_Close']],on='Date', how='outer')"
   ]
  },
  {
   "cell_type": "code",
   "execution_count": 23,
   "id": "f54808bd",
   "metadata": {},
   "outputs": [
    {
     "data": {
      "text/html": [
       "<div>\n",
       "<style scoped>\n",
       "    .dataframe tbody tr th:only-of-type {\n",
       "        vertical-align: middle;\n",
       "    }\n",
       "\n",
       "    .dataframe tbody tr th {\n",
       "        vertical-align: top;\n",
       "    }\n",
       "\n",
       "    .dataframe thead th {\n",
       "        text-align: right;\n",
       "    }\n",
       "</style>\n",
       "<table border=\"1\" class=\"dataframe\">\n",
       "  <thead>\n",
       "    <tr style=\"text-align: right;\">\n",
       "      <th></th>\n",
       "      <th>Date</th>\n",
       "      <th>GOOG_Close</th>\n",
       "      <th>GOOGL_Close</th>\n",
       "    </tr>\n",
       "  </thead>\n",
       "  <tbody>\n",
       "    <tr>\n",
       "      <th>0</th>\n",
       "      <td>2004-08-19</td>\n",
       "      <td>49.982653</td>\n",
       "      <td>50.220220</td>\n",
       "    </tr>\n",
       "    <tr>\n",
       "      <th>1</th>\n",
       "      <td>2004-08-20</td>\n",
       "      <td>53.952772</td>\n",
       "      <td>54.209209</td>\n",
       "    </tr>\n",
       "    <tr>\n",
       "      <th>2</th>\n",
       "      <td>2004-08-23</td>\n",
       "      <td>54.495737</td>\n",
       "      <td>54.754755</td>\n",
       "    </tr>\n",
       "    <tr>\n",
       "      <th>3</th>\n",
       "      <td>2004-08-24</td>\n",
       "      <td>52.239195</td>\n",
       "      <td>52.487487</td>\n",
       "    </tr>\n",
       "    <tr>\n",
       "      <th>4</th>\n",
       "      <td>2004-08-25</td>\n",
       "      <td>52.802085</td>\n",
       "      <td>53.053053</td>\n",
       "    </tr>\n",
       "  </tbody>\n",
       "</table>\n",
       "</div>"
      ],
      "text/plain": [
       "        Date  GOOG_Close  GOOGL_Close\n",
       "0 2004-08-19   49.982653    50.220220\n",
       "1 2004-08-20   53.952772    54.209209\n",
       "2 2004-08-23   54.495737    54.754755\n",
       "3 2004-08-24   52.239195    52.487487\n",
       "4 2004-08-25   52.802085    53.053053"
      ]
     },
     "execution_count": 23,
     "metadata": {},
     "output_type": "execute_result"
    }
   ],
   "source": [
    "search_merged_df.head()"
   ]
  },
  {
   "cell_type": "code",
   "execution_count": 24,
   "id": "889ca7fe",
   "metadata": {},
   "outputs": [
    {
     "data": {
      "text/html": [
       "<div>\n",
       "<style scoped>\n",
       "    .dataframe tbody tr th:only-of-type {\n",
       "        vertical-align: middle;\n",
       "    }\n",
       "\n",
       "    .dataframe tbody tr th {\n",
       "        vertical-align: top;\n",
       "    }\n",
       "\n",
       "    .dataframe thead th {\n",
       "        text-align: right;\n",
       "    }\n",
       "</style>\n",
       "<table border=\"1\" class=\"dataframe\">\n",
       "  <thead>\n",
       "    <tr style=\"text-align: right;\">\n",
       "      <th></th>\n",
       "      <th>Date</th>\n",
       "      <th>GOOG_Close</th>\n",
       "      <th>GOOGL_Close</th>\n",
       "    </tr>\n",
       "  </thead>\n",
       "  <tbody>\n",
       "    <tr>\n",
       "      <th>3657</th>\n",
       "      <td>2019-03-04</td>\n",
       "      <td>1147.80</td>\n",
       "      <td>1153.42</td>\n",
       "    </tr>\n",
       "    <tr>\n",
       "      <th>3658</th>\n",
       "      <td>2019-03-05</td>\n",
       "      <td>1162.03</td>\n",
       "      <td>1169.19</td>\n",
       "    </tr>\n",
       "    <tr>\n",
       "      <th>3659</th>\n",
       "      <td>2019-03-06</td>\n",
       "      <td>1157.86</td>\n",
       "      <td>1164.94</td>\n",
       "    </tr>\n",
       "    <tr>\n",
       "      <th>3660</th>\n",
       "      <td>2019-03-07</td>\n",
       "      <td>1143.30</td>\n",
       "      <td>1150.85</td>\n",
       "    </tr>\n",
       "    <tr>\n",
       "      <th>3661</th>\n",
       "      <td>2019-03-08</td>\n",
       "      <td>1142.32</td>\n",
       "      <td>1149.97</td>\n",
       "    </tr>\n",
       "  </tbody>\n",
       "</table>\n",
       "</div>"
      ],
      "text/plain": [
       "           Date  GOOG_Close  GOOGL_Close\n",
       "3657 2019-03-04     1147.80      1153.42\n",
       "3658 2019-03-05     1162.03      1169.19\n",
       "3659 2019-03-06     1157.86      1164.94\n",
       "3660 2019-03-07     1143.30      1150.85\n",
       "3661 2019-03-08     1142.32      1149.97"
      ]
     },
     "execution_count": 24,
     "metadata": {},
     "output_type": "execute_result"
    }
   ],
   "source": [
    "search_merged_df.tail()"
   ]
  },
  {
   "cell_type": "code",
   "execution_count": 25,
   "id": "01695005",
   "metadata": {},
   "outputs": [
    {
     "data": {
      "text/plain": [
       "array([<AxesSubplot:xlabel='Date'>, <AxesSubplot:xlabel='Date'>],\n",
       "      dtype=object)"
      ]
     },
     "execution_count": 25,
     "metadata": {},
     "output_type": "execute_result"
    },
    {
     "data": {
      "image/png": "[encoded data removed]",
      "text/plain": [
       "<Figure size 432x288 with 2 Axes>"
      ]
     },
     "metadata": {
      "needs_background": "light"
     },
     "output_type": "display_data"
    }
   ],
   "source": [
    "search_merged_df.plot.line(x='Date', y=['GOOG_Close','GOOGL_Close'], subplots=True)"
   ]
  },
  {
   "cell_type": "code",
   "execution_count": 26,
   "id": "9bb611fa",
   "metadata": {},
   "outputs": [
    {
     "data": {
      "text/plain": [
       "<AxesSubplot:xlabel='Date'>"
      ]
     },
     "execution_count": 26,
     "metadata": {},
     "output_type": "execute_result"
    },
    {
     "data": {
      "image/png": "[encoded data removed]",
      "text/plain": [
       "<Figure size 432x288 with 1 Axes>"
      ]
     },
     "metadata": {
      "needs_background": "light"
     },
     "output_type": "display_data"
    }
   ],
   "source": [
    "search_merged_df.plot.line(x='Date', y=['GOOG_Close','GOOGL_Close'])"
   ]
  },
  {
   "cell_type": "code",
   "execution_count": 27,
   "id": "742f2731",
   "metadata": {},
   "outputs": [
    {
     "name": "stdout",
     "output_type": "stream",
     "text": [
      "0.9998\n"
     ]
    }
   ],
   "source": [
    "print(round(search_merged_df['GOOG_Close'].corr(search_merged_df['GOOGL_Close']),4))"
   ]
  },
  {
   "cell_type": "markdown",
   "id": "7f4aafe6",
   "metadata": {},
   "source": [
    "##### While Goog and GOOGL nearly identical, from my understanding GOOGL granted its holders voting rights in the entity while GOOG did not, making the former very slightly more valuable. I think the way they are trated here as seperate entities is the proper way to handle this data. In fact due to the fact that they are both equity stakes in the same underlying entity, it is important to view them seperately as they are here, so that if they deviate from each other for some sort of supply/demand driven reason you could capitize on a reversion. "
   ]
  },
  {
   "cell_type": "markdown",
   "id": "53ab0404",
   "metadata": {},
   "source": [
    "### Problem 7"
   ]
  },
  {
   "cell_type": "code",
   "execution_count": 36,
   "id": "338b181d",
   "metadata": {},
   "outputs": [],
   "source": [
    "gov_df = week_1_df[week_1_df['Symbol'].isin(['GOV'])].rename(columns={\"Close\": \"GOV_Close\"})\n",
    "opi_df = week_1_df[week_1_df['Symbol'].isin(['OPI'])].rename(columns={\"Close\": \"OPI_Close\"})"
   ]
  },
  {
   "cell_type": "code",
   "execution_count": 37,
   "id": "0605c91f",
   "metadata": {},
   "outputs": [],
   "source": [
    "real_estate_merged_df = pd.merge(gov_df[['Date','GOV_Close']],opi_df[['Date','OPI_Close']],on='Date', how='outer')"
   ]
  },
  {
   "cell_type": "code",
   "execution_count": 40,
   "id": "02d6190a",
   "metadata": {},
   "outputs": [
    {
     "name": "stdout",
     "output_type": "stream",
     "text": [
      "<class 'pandas.core.frame.DataFrame'>\n",
      "Int64Index: 2457 entries, 0 to 2456\n",
      "Data columns (total 3 columns):\n",
      " #   Column     Non-Null Count  Dtype         \n",
      "---  ------     --------------  -----         \n",
      " 0   Date       2457 non-null   datetime64[ns]\n",
      " 1   GOV_Close  2412 non-null   float64       \n",
      " 2   OPI_Close  2456 non-null   float64       \n",
      "dtypes: datetime64[ns](1), float64(2)\n",
      "memory usage: 76.8 KB\n"
     ]
    }
   ],
   "source": [
    "real_estate_merged_df.info()"
   ]
  },
  {
   "cell_type": "code",
   "execution_count": 46,
   "id": "5327d791",
   "metadata": {},
   "outputs": [
    {
     "data": {
      "text/html": [
       "<div>\n",
       "<style scoped>\n",
       "    .dataframe tbody tr th:only-of-type {\n",
       "        vertical-align: middle;\n",
       "    }\n",
       "\n",
       "    .dataframe tbody tr th {\n",
       "        vertical-align: top;\n",
       "    }\n",
       "\n",
       "    .dataframe thead th {\n",
       "        text-align: right;\n",
       "    }\n",
       "</style>\n",
       "<table border=\"1\" class=\"dataframe\">\n",
       "  <thead>\n",
       "    <tr style=\"text-align: right;\">\n",
       "      <th></th>\n",
       "      <th>Date</th>\n",
       "      <th>GOV_Close</th>\n",
       "      <th>OPI_Close</th>\n",
       "    </tr>\n",
       "  </thead>\n",
       "  <tbody>\n",
       "    <tr>\n",
       "      <th>2447</th>\n",
       "      <td>2019-02-25</td>\n",
       "      <td>NaN</td>\n",
       "      <td>30.45</td>\n",
       "    </tr>\n",
       "    <tr>\n",
       "      <th>2448</th>\n",
       "      <td>2019-02-26</td>\n",
       "      <td>NaN</td>\n",
       "      <td>30.32</td>\n",
       "    </tr>\n",
       "    <tr>\n",
       "      <th>2449</th>\n",
       "      <td>2019-02-27</td>\n",
       "      <td>NaN</td>\n",
       "      <td>29.95</td>\n",
       "    </tr>\n",
       "    <tr>\n",
       "      <th>2450</th>\n",
       "      <td>2019-02-28</td>\n",
       "      <td>NaN</td>\n",
       "      <td>30.51</td>\n",
       "    </tr>\n",
       "    <tr>\n",
       "      <th>2451</th>\n",
       "      <td>2019-03-01</td>\n",
       "      <td>NaN</td>\n",
       "      <td>28.28</td>\n",
       "    </tr>\n",
       "    <tr>\n",
       "      <th>2452</th>\n",
       "      <td>2019-03-04</td>\n",
       "      <td>NaN</td>\n",
       "      <td>27.98</td>\n",
       "    </tr>\n",
       "    <tr>\n",
       "      <th>2453</th>\n",
       "      <td>2019-03-05</td>\n",
       "      <td>NaN</td>\n",
       "      <td>28.07</td>\n",
       "    </tr>\n",
       "    <tr>\n",
       "      <th>2454</th>\n",
       "      <td>2019-03-06</td>\n",
       "      <td>NaN</td>\n",
       "      <td>27.50</td>\n",
       "    </tr>\n",
       "    <tr>\n",
       "      <th>2455</th>\n",
       "      <td>2019-03-07</td>\n",
       "      <td>NaN</td>\n",
       "      <td>26.50</td>\n",
       "    </tr>\n",
       "    <tr>\n",
       "      <th>2456</th>\n",
       "      <td>2019-03-08</td>\n",
       "      <td>NaN</td>\n",
       "      <td>26.34</td>\n",
       "    </tr>\n",
       "  </tbody>\n",
       "</table>\n",
       "</div>"
      ],
      "text/plain": [
       "           Date  GOV_Close  OPI_Close\n",
       "2447 2019-02-25        NaN      30.45\n",
       "2448 2019-02-26        NaN      30.32\n",
       "2449 2019-02-27        NaN      29.95\n",
       "2450 2019-02-28        NaN      30.51\n",
       "2451 2019-03-01        NaN      28.28\n",
       "2452 2019-03-04        NaN      27.98\n",
       "2453 2019-03-05        NaN      28.07\n",
       "2454 2019-03-06        NaN      27.50\n",
       "2455 2019-03-07        NaN      26.50\n",
       "2456 2019-03-08        NaN      26.34"
      ]
     },
     "execution_count": 46,
     "metadata": {},
     "output_type": "execute_result"
    }
   ],
   "source": [
    "real_estate_merged_df.tail(10)"
   ]
  },
  {
   "cell_type": "code",
   "execution_count": 48,
   "id": "7230b8fa",
   "metadata": {},
   "outputs": [
    {
     "name": "stdout",
     "output_type": "stream",
     "text": [
      "1.0\n"
     ]
    }
   ],
   "source": [
    "print(round(real_estate_merged_df['GOV_Close'].corr(real_estate_merged_df['OPI_Close']),4))"
   ]
  },
  {
   "cell_type": "code",
   "execution_count": 50,
   "id": "2a0c950e",
   "metadata": {},
   "outputs": [
    {
     "data": {
      "text/plain": [
       "<AxesSubplot:xlabel='Date'>"
      ]
     },
     "execution_count": 50,
     "metadata": {},
     "output_type": "execute_result"
    },
    {
     "data": {
      "image/png": "[encoded data removed]",
      "text/plain": [
       "<Figure size 432x288 with 1 Axes>"
      ]
     },
     "metadata": {
      "needs_background": "light"
     },
     "output_type": "display_data"
    }
   ],
   "source": [
    "real_estate_merged_df.plot.line(x='Date', y=['GOV_Close','OPI_Close'])"
   ]
  },
  {
   "cell_type": "markdown",
   "id": "f977ff1c",
   "metadata": {},
   "source": [
    "###### This one is a little more difficult for me to see what the correct way to evaluate this is. It appears the person that compiled the data backfilled all data for OPI based off the reverse stock split by multiplying the value of GOV stock by 4 and making some slight adjustment that I can not understand (maybe due to dividends or doing some type of discounting the value off the risk free rate to the dates prior to the OPI entities existence?). Similar to the KORS/CAPRI example I think the proper way to treat this would be as two seperate entities, since OPI presumably has a different risk reward post merger than GOV did pre merger after adding an entirely new company into the fold."
   ]
  },
  {
   "cell_type": "markdown",
   "id": "c3015335",
   "metadata": {},
   "source": [
    "### Problem 8"
   ]
  },
  {
   "cell_type": "markdown",
   "id": "4acef7ac",
   "metadata": {},
   "source": [
    "###### When there are multiple calsses of a stock I think generally it would make sense to include them both in a model. I understand that having 2 fields in a model that are perfectly correlated may cause colinearity problems in certain models, but I think most real ML models are more complex than the simple linear regression types where colinearity would cause issues. Also I think adding multiple classes of stock may add allow for the model to find opportunities it otherwise wouldnt in some cases. For instance, Berkshire Hathway's A shares cost somewhere around 400,000 each and their B shares cost ~400 dollars each. If available is being used as a constraint in the model, this would allow more flexibility in suggesting a position in Berkshire Hathaway. Also, although the shares represent equity in the same company, they still have different shareholders subject to different liquidity risks, etc. and it is conceivable that the 2 shares could deviate enough due to a supply/demand imbalance that there is an arbitrage opportunity between the two classes. "
   ]
  },
  {
   "cell_type": "markdown",
   "id": "8882c8b4",
   "metadata": {},
   "source": [
    "### Problem 9"
   ]
  },
  {
   "cell_type": "markdown",
   "id": "1b415b96",
   "metadata": {},
   "source": [
    "###### Survivorship bias is the bias in a dataset when it only considers 'surviving' stocks in a portfolio's performance (eg excluding stocks like Lehman Brothers, Enron, Woldcom, etc. from the dataset). It will alter the portfolio's performance in a way incinsistent with reality. A good example was in this weeks lecture, where a porftfolio was constructed solely of pinksheets stocks, which can be extraordinarily volatile. The ten stocks included in the lecture example had a large negative return over the time frame, but when you excluded all of the equities that went to zero and replaced them with ones that had 'survvied', it showed a large postive return, despite the fact that you obviously wouldn't know which ones were going to go to zero when the portfolio was constructed. To test for survivorship bias in the dataset, I would first look at what portion of the dataset's last clsoing price was not the date of the last record in the dataset (it looks like in this case that would be 127 of the 1056 total symbols), then see if any of those symbols lost all of their value while during the timeframe this dataset accounts for. It looks like there are 13 stocks that had a last close date earlier than the last recorded date in the data set that lost 99%+ of their value, so I think dataset does not have survivorship bias (see work below)."
   ]
  },
  {
   "cell_type": "code",
   "execution_count": 106,
   "id": "ed4264ec",
   "metadata": {},
   "outputs": [
    {
     "data": {
      "text/html": [
       "<div>\n",
       "<style scoped>\n",
       "    .dataframe tbody tr th:only-of-type {\n",
       "        vertical-align: middle;\n",
       "    }\n",
       "\n",
       "    .dataframe tbody tr th {\n",
       "        vertical-align: top;\n",
       "    }\n",
       "\n",
       "    .dataframe thead th {\n",
       "        text-align: right;\n",
       "    }\n",
       "</style>\n",
       "<table border=\"1\" class=\"dataframe\">\n",
       "  <thead>\n",
       "    <tr style=\"text-align: right;\">\n",
       "      <th></th>\n",
       "      <th>Date</th>\n",
       "      <th>Open</th>\n",
       "      <th>High</th>\n",
       "      <th>Low</th>\n",
       "      <th>Close</th>\n",
       "      <th>UnAdjustedClose</th>\n",
       "      <th>Volume</th>\n",
       "      <th>Symbol</th>\n",
       "    </tr>\n",
       "  </thead>\n",
       "  <tbody>\n",
       "    <tr>\n",
       "      <th>0</th>\n",
       "      <td>2000-12-01</td>\n",
       "      <td>33.287973</td>\n",
       "      <td>34.388402</td>\n",
       "      <td>33.170070</td>\n",
       "      <td>33.327274</td>\n",
       "      <td>53.0000</td>\n",
       "      <td>36286</td>\n",
       "      <td>A</td>\n",
       "    </tr>\n",
       "    <tr>\n",
       "      <th>1</th>\n",
       "      <td>2000-12-04</td>\n",
       "      <td>32.737759</td>\n",
       "      <td>33.366575</td>\n",
       "      <td>31.755233</td>\n",
       "      <td>32.069641</td>\n",
       "      <td>51.0000</td>\n",
       "      <td>28951</td>\n",
       "      <td>A</td>\n",
       "    </tr>\n",
       "    <tr>\n",
       "      <th>2</th>\n",
       "      <td>2000-12-05</td>\n",
       "      <td>33.170070</td>\n",
       "      <td>35.017219</td>\n",
       "      <td>33.052167</td>\n",
       "      <td>34.624208</td>\n",
       "      <td>55.0625</td>\n",
       "      <td>54723</td>\n",
       "      <td>A</td>\n",
       "    </tr>\n",
       "    <tr>\n",
       "      <th>3</th>\n",
       "      <td>2000-12-06</td>\n",
       "      <td>34.742111</td>\n",
       "      <td>35.803239</td>\n",
       "      <td>32.698458</td>\n",
       "      <td>32.698458</td>\n",
       "      <td>52.0000</td>\n",
       "      <td>43669</td>\n",
       "      <td>A</td>\n",
       "    </tr>\n",
       "    <tr>\n",
       "      <th>4</th>\n",
       "      <td>2000-12-07</td>\n",
       "      <td>33.012866</td>\n",
       "      <td>34.506305</td>\n",
       "      <td>32.305447</td>\n",
       "      <td>33.956091</td>\n",
       "      <td>54.0000</td>\n",
       "      <td>30599</td>\n",
       "      <td>A</td>\n",
       "    </tr>\n",
       "  </tbody>\n",
       "</table>\n",
       "</div>"
      ],
      "text/plain": [
       "        Date       Open       High        Low      Close  UnAdjustedClose  \\\n",
       "0 2000-12-01  33.287973  34.388402  33.170070  33.327274          53.0000   \n",
       "1 2000-12-04  32.737759  33.366575  31.755233  32.069641          51.0000   \n",
       "2 2000-12-05  33.170070  35.017219  33.052167  34.624208          55.0625   \n",
       "3 2000-12-06  34.742111  35.803239  32.698458  32.698458          52.0000   \n",
       "4 2000-12-07  33.012866  34.506305  32.305447  33.956091          54.0000   \n",
       "\n",
       "  Volume Symbol  \n",
       "0  36286      A  \n",
       "1  28951      A  \n",
       "2  54723      A  \n",
       "3  43669      A  \n",
       "4  30599      A  "
      ]
     },
     "execution_count": 106,
     "metadata": {},
     "output_type": "execute_result"
    }
   ],
   "source": [
    "week_1_df.head()"
   ]
  },
  {
   "cell_type": "code",
   "execution_count": 107,
   "id": "6ac01ff3",
   "metadata": {},
   "outputs": [],
   "source": [
    "mins_and_max_df = week_1_df.groupby('Symbol').Close.agg(['min', 'max']) "
   ]
  },
  {
   "cell_type": "code",
   "execution_count": 111,
   "id": "baf3c204",
   "metadata": {},
   "outputs": [],
   "source": [
    "first_record_df = week_1_df.groupby('Symbol').nth(0).reset_index()\n",
    "first_record_df = first_record_df[['Symbol','Date', 'Close']].rename(columns={\"Date\":\"First_Date\",\"Close\":\"First_Close\"})\n",
    "last_record_df = week_1_df.groupby('Symbol').nth(-1).reset_index()\n",
    "last_record_df = last_record_df[['Symbol','Date', 'Close']].rename(columns={\"Date\":\"Last_Date\",\"Close\":\"Last_Close\"})\n",
    "#first_record_df.head()"
   ]
  },
  {
   "cell_type": "code",
   "execution_count": 112,
   "id": "486b79e7",
   "metadata": {},
   "outputs": [],
   "source": [
    "first_and_last_df = pd.merge(first_record_df,last_record_df,on='Symbol', how='outer')\n",
    "first_and_last_df = first_and_last_df[['Symbol', 'First_Date', 'Last_Date', 'First_Close', 'Last_Close']]"
   ]
  },
  {
   "cell_type": "code",
   "execution_count": 113,
   "id": "49409c30",
   "metadata": {},
   "outputs": [],
   "source": [
    "first_and_last_df['Perc_Change'] = round(((first_and_last_df['Last_Close'] - first_and_last_df['First_Close'])/first_and_last_df['First_Close'])*100,2)"
   ]
  },
  {
   "cell_type": "code",
   "execution_count": 114,
   "id": "f7e3ef21",
   "metadata": {},
   "outputs": [
    {
     "name": "stdout",
     "output_type": "stream",
     "text": [
      "<class 'pandas.core.frame.DataFrame'>\n",
      "Int64Index: 1056 entries, 0 to 1055\n",
      "Data columns (total 6 columns):\n",
      " #   Column       Non-Null Count  Dtype         \n",
      "---  ------       --------------  -----         \n",
      " 0   Symbol       1056 non-null   object        \n",
      " 1   First_Date   1056 non-null   datetime64[ns]\n",
      " 2   Last_Date    1056 non-null   datetime64[ns]\n",
      " 3   First_Close  1056 non-null   float64       \n",
      " 4   Last_Close   1056 non-null   float64       \n",
      " 5   Perc_Change  1056 non-null   float64       \n",
      "dtypes: datetime64[ns](2), float64(3), object(1)\n",
      "memory usage: 57.8+ KB\n"
     ]
    }
   ],
   "source": [
    "first_and_last_df.info()"
   ]
  },
  {
   "cell_type": "code",
   "execution_count": 116,
   "id": "493fbe92",
   "metadata": {},
   "outputs": [],
   "source": [
    "not_last_date_available_df = first_and_last_df[first_and_last_df['Last_Date'] != '2019-03-08']"
   ]
  },
  {
   "cell_type": "code",
   "execution_count": 117,
   "id": "a42812f7",
   "metadata": {},
   "outputs": [
    {
     "name": "stdout",
     "output_type": "stream",
     "text": [
      "<class 'pandas.core.frame.DataFrame'>\n",
      "Int64Index: 127 entries, 8 to 1047\n",
      "Data columns (total 6 columns):\n",
      " #   Column       Non-Null Count  Dtype         \n",
      "---  ------       --------------  -----         \n",
      " 0   Symbol       127 non-null    object        \n",
      " 1   First_Date   127 non-null    datetime64[ns]\n",
      " 2   Last_Date    127 non-null    datetime64[ns]\n",
      " 3   First_Close  127 non-null    float64       \n",
      " 4   Last_Close   127 non-null    float64       \n",
      " 5   Perc_Change  127 non-null    float64       \n",
      "dtypes: datetime64[ns](2), float64(3), object(1)\n",
      "memory usage: 6.9+ KB\n"
     ]
    }
   ],
   "source": [
    "not_last_date_available_df.info()"
   ]
  },
  {
   "cell_type": "code",
   "execution_count": 120,
   "id": "24996515",
   "metadata": {},
   "outputs": [
    {
     "data": {
      "text/html": [
       "<div>\n",
       "<style scoped>\n",
       "    .dataframe tbody tr th:only-of-type {\n",
       "        vertical-align: middle;\n",
       "    }\n",
       "\n",
       "    .dataframe tbody tr th {\n",
       "        vertical-align: top;\n",
       "    }\n",
       "\n",
       "    .dataframe thead th {\n",
       "        text-align: right;\n",
       "    }\n",
       "</style>\n",
       "<table border=\"1\" class=\"dataframe\">\n",
       "  <thead>\n",
       "    <tr style=\"text-align: right;\">\n",
       "      <th></th>\n",
       "      <th>Symbol</th>\n",
       "      <th>First_Date</th>\n",
       "      <th>Last_Date</th>\n",
       "      <th>First_Close</th>\n",
       "      <th>Last_Close</th>\n",
       "      <th>Perc_Change</th>\n",
       "    </tr>\n",
       "  </thead>\n",
       "  <tbody>\n",
       "    <tr>\n",
       "      <th>717</th>\n",
       "      <td>OREXQ'</td>\n",
       "      <td>2007-04-30</td>\n",
       "      <td>2018-10-15</td>\n",
       "      <td>140.500000</td>\n",
       "      <td>0.01</td>\n",
       "      <td>-99.99</td>\n",
       "    </tr>\n",
       "    <tr>\n",
       "      <th>802</th>\n",
       "      <td>REXXQ'</td>\n",
       "      <td>2007-07-25</td>\n",
       "      <td>2018-11-15</td>\n",
       "      <td>101.300000</td>\n",
       "      <td>0.02</td>\n",
       "      <td>-99.98</td>\n",
       "    </tr>\n",
       "    <tr>\n",
       "      <th>334</th>\n",
       "      <td>ERINQ'</td>\n",
       "      <td>2008-05-22</td>\n",
       "      <td>2018-09-19</td>\n",
       "      <td>49.301561</td>\n",
       "      <td>0.01</td>\n",
       "      <td>-99.98</td>\n",
       "    </tr>\n",
       "    <tr>\n",
       "      <th>428</th>\n",
       "      <td>GSTCQ'</td>\n",
       "      <td>2006-01-05</td>\n",
       "      <td>2018-11-21</td>\n",
       "      <td>19.400000</td>\n",
       "      <td>0.01</td>\n",
       "      <td>-99.95</td>\n",
       "    </tr>\n",
       "    <tr>\n",
       "      <th>427</th>\n",
       "      <td>GSTC</td>\n",
       "      <td>2006-01-05</td>\n",
       "      <td>2018-11-01</td>\n",
       "      <td>19.400000</td>\n",
       "      <td>0.02</td>\n",
       "      <td>-99.90</td>\n",
       "    </tr>\n",
       "    <tr>\n",
       "      <th>283</th>\n",
       "      <td>DHCP</td>\n",
       "      <td>2000-12-01</td>\n",
       "      <td>2019-02-11</td>\n",
       "      <td>96.640694</td>\n",
       "      <td>0.10</td>\n",
       "      <td>-99.90</td>\n",
       "    </tr>\n",
       "    <tr>\n",
       "      <th>774</th>\n",
       "      <td>PTX</td>\n",
       "      <td>2000-12-01</td>\n",
       "      <td>2019-03-04</td>\n",
       "      <td>130.044781</td>\n",
       "      <td>0.21</td>\n",
       "      <td>-99.84</td>\n",
       "    </tr>\n",
       "    <tr>\n",
       "      <th>801</th>\n",
       "      <td>REXX</td>\n",
       "      <td>2007-07-25</td>\n",
       "      <td>2018-05-21</td>\n",
       "      <td>101.300000</td>\n",
       "      <td>0.25</td>\n",
       "      <td>-99.75</td>\n",
       "    </tr>\n",
       "    <tr>\n",
       "      <th>426</th>\n",
       "      <td>GST</td>\n",
       "      <td>2006-01-05</td>\n",
       "      <td>2018-09-06</td>\n",
       "      <td>19.400000</td>\n",
       "      <td>0.06</td>\n",
       "      <td>-99.69</td>\n",
       "    </tr>\n",
       "    <tr>\n",
       "      <th>997</th>\n",
       "      <td>WAC</td>\n",
       "      <td>2000-12-01</td>\n",
       "      <td>2018-02-09</td>\n",
       "      <td>9664.000000</td>\n",
       "      <td>60.00</td>\n",
       "      <td>-99.38</td>\n",
       "    </tr>\n",
       "    <tr>\n",
       "      <th>753</th>\n",
       "      <td>PKD</td>\n",
       "      <td>2000-12-01</td>\n",
       "      <td>2018-12-12</td>\n",
       "      <td>64.687500</td>\n",
       "      <td>0.43</td>\n",
       "      <td>-99.34</td>\n",
       "    </tr>\n",
       "    <tr>\n",
       "      <th>1016</th>\n",
       "      <td>WLBA</td>\n",
       "      <td>2000-12-01</td>\n",
       "      <td>2018-10-09</td>\n",
       "      <td>8.323093</td>\n",
       "      <td>0.07</td>\n",
       "      <td>-99.16</td>\n",
       "    </tr>\n",
       "    <tr>\n",
       "      <th>1010</th>\n",
       "      <td>WIN</td>\n",
       "      <td>2005-02-09</td>\n",
       "      <td>2019-03-05</td>\n",
       "      <td>36.768821</td>\n",
       "      <td>0.34</td>\n",
       "      <td>-99.08</td>\n",
       "    </tr>\n",
       "    <tr>\n",
       "      <th>1015</th>\n",
       "      <td>WLB</td>\n",
       "      <td>2000-12-01</td>\n",
       "      <td>2018-04-24</td>\n",
       "      <td>832.000000</td>\n",
       "      <td>15.00</td>\n",
       "      <td>-98.20</td>\n",
       "    </tr>\n",
       "    <tr>\n",
       "      <th>874</th>\n",
       "      <td>SN'</td>\n",
       "      <td>2011-12-15</td>\n",
       "      <td>2019-02-20</td>\n",
       "      <td>18.310000</td>\n",
       "      <td>0.36</td>\n",
       "      <td>-98.03</td>\n",
       "    </tr>\n",
       "    <tr>\n",
       "      <th>873</th>\n",
       "      <td>SN</td>\n",
       "      <td>2011-12-15</td>\n",
       "      <td>2019-02-20</td>\n",
       "      <td>18.310000</td>\n",
       "      <td>0.36</td>\n",
       "      <td>-98.03</td>\n",
       "    </tr>\n",
       "    <tr>\n",
       "      <th>787</th>\n",
       "      <td>RAS</td>\n",
       "      <td>2000-12-01</td>\n",
       "      <td>2018-05-11</td>\n",
       "      <td>7.188780</td>\n",
       "      <td>0.16</td>\n",
       "      <td>-97.77</td>\n",
       "    </tr>\n",
       "    <tr>\n",
       "      <th>116</th>\n",
       "      <td>BBOX'</td>\n",
       "      <td>2000-12-01</td>\n",
       "      <td>2019-01-07</td>\n",
       "      <td>45.053704</td>\n",
       "      <td>1.09</td>\n",
       "      <td>-97.58</td>\n",
       "    </tr>\n",
       "    <tr>\n",
       "      <th>858</th>\n",
       "      <td>SHLD</td>\n",
       "      <td>2003-05-01</td>\n",
       "      <td>2018-10-23</td>\n",
       "      <td>11.321408</td>\n",
       "      <td>0.37</td>\n",
       "      <td>-96.73</td>\n",
       "    </tr>\n",
       "    <tr>\n",
       "      <th>991</th>\n",
       "      <td>VSAR</td>\n",
       "      <td>2014-03-21</td>\n",
       "      <td>2018-10-15</td>\n",
       "      <td>31.370000</td>\n",
       "      <td>1.19</td>\n",
       "      <td>-96.21</td>\n",
       "    </tr>\n",
       "  </tbody>\n",
       "</table>\n",
       "</div>"
      ],
      "text/plain": [
       "      Symbol First_Date  Last_Date  First_Close  Last_Close  Perc_Change\n",
       "717   OREXQ' 2007-04-30 2018-10-15   140.500000        0.01       -99.99\n",
       "802   REXXQ' 2007-07-25 2018-11-15   101.300000        0.02       -99.98\n",
       "334   ERINQ' 2008-05-22 2018-09-19    49.301561        0.01       -99.98\n",
       "428   GSTCQ' 2006-01-05 2018-11-21    19.400000        0.01       -99.95\n",
       "427     GSTC 2006-01-05 2018-11-01    19.400000        0.02       -99.90\n",
       "283     DHCP 2000-12-01 2019-02-11    96.640694        0.10       -99.90\n",
       "774      PTX 2000-12-01 2019-03-04   130.044781        0.21       -99.84\n",
       "801     REXX 2007-07-25 2018-05-21   101.300000        0.25       -99.75\n",
       "426      GST 2006-01-05 2018-09-06    19.400000        0.06       -99.69\n",
       "997      WAC 2000-12-01 2018-02-09  9664.000000       60.00       -99.38\n",
       "753      PKD 2000-12-01 2018-12-12    64.687500        0.43       -99.34\n",
       "1016    WLBA 2000-12-01 2018-10-09     8.323093        0.07       -99.16\n",
       "1010     WIN 2005-02-09 2019-03-05    36.768821        0.34       -99.08\n",
       "1015     WLB 2000-12-01 2018-04-24   832.000000       15.00       -98.20\n",
       "874      SN' 2011-12-15 2019-02-20    18.310000        0.36       -98.03\n",
       "873       SN 2011-12-15 2019-02-20    18.310000        0.36       -98.03\n",
       "787      RAS 2000-12-01 2018-05-11     7.188780        0.16       -97.77\n",
       "116    BBOX' 2000-12-01 2019-01-07    45.053704        1.09       -97.58\n",
       "858     SHLD 2003-05-01 2018-10-23    11.321408        0.37       -96.73\n",
       "991     VSAR 2014-03-21 2018-10-15    31.370000        1.19       -96.21"
      ]
     },
     "execution_count": 120,
     "metadata": {},
     "output_type": "execute_result"
    }
   ],
   "source": [
    "not_last_date_available_df.sort_values(by = ['Perc_Change']).head(20)"
   ]
  },
  {
   "cell_type": "code",
   "execution_count": null,
   "id": "a923e0a1",
   "metadata": {},
   "outputs": [],
   "source": []
  }
 ],
 "metadata": {
  "kernelspec": {
   "display_name": "Python 3",
   "language": "python",
   "name": "python3"
  },
  "language_info": {
   "codemirror_mode": {
    "name": "ipython",
    "version": 3
   },
   "file_extension": ".py",
   "mimetype": "text/x-python",
   "name": "python",
   "nbconvert_exporter": "python",
   "pygments_lexer": "ipython3",
   "version": "3.8.8"
  }
 },
 "nbformat": 4,
 "nbformat_minor": 5
}
